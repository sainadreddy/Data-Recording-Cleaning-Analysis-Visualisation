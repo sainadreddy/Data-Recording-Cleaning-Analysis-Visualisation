{
 "cells": [
  {
   "cell_type": "code",
   "execution_count": 1,
   "id": "52be9c60",
   "metadata": {},
   "outputs": [],
   "source": [
    "#importing the required libraries for doing this task\n",
    "import pandas as pd\n",
    "import os\n",
    "import glob\n",
    "import warnings\n",
    "import matplotlib.pyplot as plt\n",
    "warnings.filterwarnings('ignore')\n"
   ]
  },
  {
   "cell_type": "markdown",
   "id": "1bc0cef8",
   "metadata": {},
   "source": [
    "# <center>***PREPROCESSING***</center>"
   ]
  },
  {
   "cell_type": "markdown",
   "id": "a4e21cb6",
   "metadata": {},
   "source": [
    "### 1.Dealing data sensibly"
   ]
  },
  {
   "cell_type": "markdown",
   "id": "e737680d",
   "metadata": {},
   "source": [
    "\n",
    "* One of the file they didn't mention year this makes difficult for pandas to make the date column to single format so we edit it by using excel.\n",
    " "
   ]
  },
  {
   "cell_type": "markdown",
   "id": "82e7b49d",
   "metadata": {},
   "source": [
    "* The names of Type and occupancy columns are intergchanged in one of the files so by using excel they are changed back to their original names."
   ]
  },
  {
   "cell_type": "markdown",
   "id": "708d6221",
   "metadata": {},
   "source": [
    "* In one of the file they entered 'qm' instead of 'am' ,it is changed by using excel."
   ]
  },
  {
   "cell_type": "markdown",
   "id": "92c17fb9",
   "metadata": {},
   "source": [
    "* In one the file, occupancy of all types is mentioned in percentage.It is changed by multiplying two rows(formulae=c2*d2) and the obtained output is named as occupancy and the old column is deleted. we multiply because in this file they took additional data as capacity, so the occupancy and additional data is multiplied to get the value.(The formulae can be changed to value by copy the all the cells and use paste special -paste values to get values)."
   ]
  },
  {
   "cell_type": "markdown",
   "id": "a1218b37",
   "metadata": {},
   "source": [
    "* In one of the file they mentioned only date with no other values in that row ,that row is deleted using excel."
   ]
  },
  {
   "cell_type": "markdown",
   "id": "2708d52c",
   "metadata": {},
   "source": [
    "* In one of the file the value of BIKE is changed from 100 to 1."
   ]
  },
  {
   "cell_type": "markdown",
   "id": "9e3638bd",
   "metadata": {},
   "source": [
    "* In two files for bus occupancy 'empty', 'half-full', 'medium' is changed to '0%', '50%', '50%' respectively."
   ]
  },
  {
   "cell_type": "code",
   "execution_count": 2,
   "id": "833a8d01",
   "metadata": {},
   "outputs": [],
   "source": [
    "# # **********make sure you run this cell only once***************\n",
    "# #one of the file is separated by semicolon to convert it into required format(Comma separated).\n",
    "# #we use the below code\n",
    "# df =pd.read_csv('x.csv', sep=';')#reading the file(change file names as per your needs)\n",
    "# df.insert(1,'Date','26-10-2022')#adding  a column\n",
    "# df=df.iloc[2:,1:]#selcting only the required column\n",
    "# df= df.rename({'Unnamed: 1': 'Time','Unnamed: 2': 'Direction','Unnamed: 3': 'Type','Unnamed: 4': 'Occupancy','Unnamed: 5': 'TYPE OF TRANSPORTATION'}, axis=1)  # changing the name of the column to match to our specs\n",
    "# df=df.dropna()#removes the rows that contains NULL values\n",
    "# df=df.reset_index(inplace=False)# reset the index and start from 0\n",
    "# df=df.iloc[:,1:]#making final selction of columns\n",
    "# df.to_csv('x.csv',index=False)#saving the final file in the same directory\n",
    "# #if you use differnt directory or path to read the files then copy paste the file to that directory or path\n",
    "# #if you run twice you will lose the data"
   ]
  },
  {
   "cell_type": "markdown",
   "id": "0fcd8035",
   "metadata": {},
   "source": [
    "#### 2. MERGING THE FILES"
   ]
  },
  {
   "cell_type": "code",
   "execution_count": 3,
   "id": "638e912b",
   "metadata": {},
   "outputs": [
    {
     "data": {
      "text/plain": [
       "['C:\\\\Users\\\\Sainad\\\\Desktop\\\\GITHUB\\\\Project-1\\\\Code\\\\22351432.csv',\n",
       " 'C:\\\\Users\\\\Sainad\\\\Desktop\\\\GITHUB\\\\Project-1\\\\Code\\\\22351433.csv',\n",
       " 'C:\\\\Users\\\\Sainad\\\\Desktop\\\\GITHUB\\\\Project-1\\\\Code\\\\22351434.csv',\n",
       " 'C:\\\\Users\\\\Sainad\\\\Desktop\\\\GITHUB\\\\Project-1\\\\Code\\\\22351435.csv',\n",
       " 'C:\\\\Users\\\\Sainad\\\\Desktop\\\\GITHUB\\\\Project-1\\\\Code\\\\22351436.csv',\n",
       " 'C:\\\\Users\\\\Sainad\\\\Desktop\\\\GITHUB\\\\Project-1\\\\Code\\\\22351439.csv',\n",
       " 'C:\\\\Users\\\\Sainad\\\\Desktop\\\\GITHUB\\\\Project-1\\\\Code\\\\22351440.csv',\n",
       " 'C:\\\\Users\\\\Sainad\\\\Desktop\\\\GITHUB\\\\Project-1\\\\Code\\\\22351441.csv',\n",
       " 'C:\\\\Users\\\\Sainad\\\\Desktop\\\\GITHUB\\\\Project-1\\\\Code\\\\22351444.csv',\n",
       " 'C:\\\\Users\\\\Sainad\\\\Desktop\\\\GITHUB\\\\Project-1\\\\Code\\\\22351445.csv',\n",
       " 'C:\\\\Users\\\\Sainad\\\\Desktop\\\\GITHUB\\\\Project-1\\\\Code\\\\22351446.csv',\n",
       " 'C:\\\\Users\\\\Sainad\\\\Desktop\\\\GITHUB\\\\Project-1\\\\Code\\\\22351449.csv',\n",
       " 'C:\\\\Users\\\\Sainad\\\\Desktop\\\\GITHUB\\\\Project-1\\\\Code\\\\22351450.csv',\n",
       " 'C:\\\\Users\\\\Sainad\\\\Desktop\\\\GITHUB\\\\Project-1\\\\Code\\\\22351453.csv',\n",
       " 'C:\\\\Users\\\\Sainad\\\\Desktop\\\\GITHUB\\\\Project-1\\\\Code\\\\22351454.csv',\n",
       " 'C:\\\\Users\\\\Sainad\\\\Desktop\\\\GITHUB\\\\Project-1\\\\Code\\\\22351455.csv',\n",
       " 'C:\\\\Users\\\\Sainad\\\\Desktop\\\\GITHUB\\\\Project-1\\\\Code\\\\22351456.csv',\n",
       " 'C:\\\\Users\\\\Sainad\\\\Desktop\\\\GITHUB\\\\Project-1\\\\Code\\\\22351457.csv',\n",
       " 'C:\\\\Users\\\\Sainad\\\\Desktop\\\\GITHUB\\\\Project-1\\\\Code\\\\22351460.csv',\n",
       " 'C:\\\\Users\\\\Sainad\\\\Desktop\\\\GITHUB\\\\Project-1\\\\Code\\\\22351461.csv',\n",
       " 'C:\\\\Users\\\\Sainad\\\\Desktop\\\\GITHUB\\\\Project-1\\\\Code\\\\22351462.csv',\n",
       " 'C:\\\\Users\\\\Sainad\\\\Desktop\\\\GITHUB\\\\Project-1\\\\Code\\\\22351463.csv',\n",
       " 'C:\\\\Users\\\\Sainad\\\\Desktop\\\\GITHUB\\\\Project-1\\\\Code\\\\22351464.csv',\n",
       " 'C:\\\\Users\\\\Sainad\\\\Desktop\\\\GITHUB\\\\Project-1\\\\Code\\\\22351467.csv',\n",
       " 'C:\\\\Users\\\\Sainad\\\\Desktop\\\\GITHUB\\\\Project-1\\\\Code\\\\22351469.csv',\n",
       " 'C:\\\\Users\\\\Sainad\\\\Desktop\\\\GITHUB\\\\Project-1\\\\Code\\\\22351470.csv',\n",
       " 'C:\\\\Users\\\\Sainad\\\\Desktop\\\\GITHUB\\\\Project-1\\\\Code\\\\22351471.csv',\n",
       " 'C:\\\\Users\\\\Sainad\\\\Desktop\\\\GITHUB\\\\Project-1\\\\Code\\\\22351472.csv',\n",
       " 'C:\\\\Users\\\\Sainad\\\\Desktop\\\\GITHUB\\\\Project-1\\\\Code\\\\22351474.csv',\n",
       " 'C:\\\\Users\\\\Sainad\\\\Desktop\\\\GITHUB\\\\Project-1\\\\Code\\\\22351478.csv',\n",
       " 'C:\\\\Users\\\\Sainad\\\\Desktop\\\\GITHUB\\\\Project-1\\\\Code\\\\22351480.csv',\n",
       " 'C:\\\\Users\\\\Sainad\\\\Desktop\\\\GITHUB\\\\Project-1\\\\Code\\\\22351482.csv',\n",
       " 'C:\\\\Users\\\\Sainad\\\\Desktop\\\\GITHUB\\\\Project-1\\\\Code\\\\22351484.csv',\n",
       " 'C:\\\\Users\\\\Sainad\\\\Desktop\\\\GITHUB\\\\Project-1\\\\Code\\\\22351485.csv',\n",
       " 'C:\\\\Users\\\\Sainad\\\\Desktop\\\\GITHUB\\\\Project-1\\\\Code\\\\22351489.csv',\n",
       " 'C:\\\\Users\\\\Sainad\\\\Desktop\\\\GITHUB\\\\Project-1\\\\Code\\\\22351490.csv',\n",
       " 'C:\\\\Users\\\\Sainad\\\\Desktop\\\\GITHUB\\\\Project-1\\\\Code\\\\22351491.csv',\n",
       " 'C:\\\\Users\\\\Sainad\\\\Desktop\\\\GITHUB\\\\Project-1\\\\Code\\\\22351492.csv',\n",
       " 'C:\\\\Users\\\\Sainad\\\\Desktop\\\\GITHUB\\\\Project-1\\\\Code\\\\22351496.csv',\n",
       " 'C:\\\\Users\\\\Sainad\\\\Desktop\\\\GITHUB\\\\Project-1\\\\Code\\\\22351497.csv',\n",
       " 'C:\\\\Users\\\\Sainad\\\\Desktop\\\\GITHUB\\\\Project-1\\\\Code\\\\22351498.csv',\n",
       " 'C:\\\\Users\\\\Sainad\\\\Desktop\\\\GITHUB\\\\Project-1\\\\Code\\\\22351500.csv',\n",
       " 'C:\\\\Users\\\\Sainad\\\\Desktop\\\\GITHUB\\\\Project-1\\\\Code\\\\22351502.csv',\n",
       " 'C:\\\\Users\\\\Sainad\\\\Desktop\\\\GITHUB\\\\Project-1\\\\Code\\\\22351503.csv',\n",
       " 'C:\\\\Users\\\\Sainad\\\\Desktop\\\\GITHUB\\\\Project-1\\\\Code\\\\22351505.csv',\n",
       " 'C:\\\\Users\\\\Sainad\\\\Desktop\\\\GITHUB\\\\Project-1\\\\Code\\\\22351507.csv']"
      ]
     },
     "execution_count": 3,
     "metadata": {},
     "output_type": "execute_result"
    }
   ],
   "source": [
    "#list all csv files only\n",
    "csv_files = glob.glob('C:\\\\Users\\\\Sainad\\\\Desktop\\\\GITHUB\\\\Project-1\\\\Code\\\\*csv')\n",
    "csv_files"
   ]
  },
  {
   "cell_type": "code",
   "execution_count": 4,
   "id": "46d1bc9d",
   "metadata": {},
   "outputs": [],
   "source": [
    "# In order to merge data we need all the columns names of similiar data to be same so that we get proper results so we merge by\n",
    "# changing the names of columns.\n",
    "\n",
    "merge_data=pd.DataFrame() #creating an empty dataframe using pandas\n",
    "for f in csv_files:\n",
    "    x=pd.read_csv(f) #reading every csv file\n",
    "    \n",
    "    #changing different date column names to single format\n",
    "    x=x.rename({'Data':'Date','6':'Date','Date':'Date','date':'Date'},axis=1)\n",
    "    \n",
    "    #changing different time column names to single format\n",
    "    x=x.rename({'time':'Time','Time ( in AM)':'Time','TIME':'Time',' Time':'Time','Time ':'Time'},axis=1)\n",
    "    \n",
    "    #changing different direction column names to single format\n",
    "    x=x.rename({'direction':'Direction','Direction of Vehicle':'Direction',' Direction':'Direction','Direction of travel':'Direction'},axis=1)\n",
    "    \n",
    "    #changing different type column names to single format\n",
    "    x=x.rename({' type':'Type','category':'Type','type':'Type','Type of Vehicle':'Type',' Type':'Type','Vehicle Type':'Type','Category of vehicle':'Type','TYPE':'Type'},axis=1)\n",
    "    \n",
    "    #changing different occupancy column names to single format\n",
    "    x=x.rename({'occupancy':'Occupancy','Occupancy':'Occupancy','occupancy':'Occupancy',' Occupancy':'Occupancy','Occupancy of the Vehicle':'Occupancy','OCCUPANCY':'Occupancy'},axis=1)\n",
    "    \n",
    "    #The additional data with different column names is changed to single format\n",
    "    x=x.rename({'TYPE OF TRANSPORTATION':'TRANSPORT TYPE (Public/Private)','Transportation Type':'TRANSPORT TYPE (Public/Private)','Public Transport':'TRANSPORT TYPE (Public/Private)','Owner':'TRANSPORT TYPE (Public/Private)','Personal':'TRANSPORT TYPE (Public/Private)','Transport Type (Public/Private)':'TRANSPORT TYPE (Public/Private)'},axis=1)\n",
    "    x=x.rename({'DirectionofExit':'DIRECTION OF EXIT','Approach/exit':'DIRECTION OF EXIT'},axis=1)\n",
    "    x=x.rename({'Electric or Hybrid?':'ELECTRIC/HYBRID','Engine':'ELECTRIC/HYBRID'},axis=1)\n",
    "    x=x.rename({'BusNo':'U1/U2',' Bus Type':'U1/U2'},axis=1)\n",
    "    x=x.rename({'Colour of Vehicle':'VEHICLE COLOUR','Colour':'VEHICLE COLOUR','Vehicle Colour':'VEHICLE COLOUR'},axis=1)\n",
    "    x=x.rename({'Cumulative frequency':'FREQUENCY','Frequency':'FREQUENCY' },axis=1)\n",
    "    x=x.rename({'No of pedestrian':'PEDESTRIAN COUNT','Pedestrian Count':'PEDESTRIAN COUNT' },axis=1)\n",
    "    x=x.rename({' Vehicle Brand':'BRAND OF THE VEHICLE','Vehicle Brand':'BRAND OF THE VEHICLE','Brand':'BRAND OF THE VEHICLE','Car Company/Bus No':'BRAND OF THE VEHICLE'},axis=1)\n",
    "    x=x.rename({'Weather':'WEATHER',' Weather':'WEATHER'},axis=1)\n",
    "    x=x.rename({'Electric or not': 'ELECTRIC VEHICLE','Electric / Non-Electric Vehicle': 'ELECTRIC VEHICLE',' Electric Vehicle':'ELECTRIC VEHICLE', 'Electric Vehicle ':'ELECTRIC VEHICLE','not_petrol':'ELECTRIC VEHICLE','Exhaust Pipe':'ELECTRIC VEHICLE','Electric':'ELECTRIC VEHICLE','Electric_vehicle':'ELECTRIC VEHICLE',' Electric_Vehicle':'ELECTRIC VEHICLE','CarType':'ELECTRIC VEHICLE','Engine Type':'ELECTRIC VEHICLE','FUEL':'ELECTRIC VEHICLE','Electric Vehicle':'ELECTRIC VEHICLE'},axis=1)\n",
    "    x=x.rename({'driver‘s gender':\"DRIVER'S GENDER\",'Gender of the driver':\"DRIVER'S GENDER\",'Gender':\"DRIVER'S GENDER\",' Driver Gender':\"DRIVER'S GENDER\",'GENDER OF DRIVER':\"DRIVER'S GENDER\",\"Driver's gender\":\"DRIVER'S GENDER\",'Bus driver gender':\"DRIVER'S GENDER\",\"Driver's Gender\":\"DRIVER'S GENDER\"},axis=1)\n",
    "    merge_data=pd.concat([merge_data,x])  #merging the data using concat\n",
    "    merge_data=merge_data.dropna(axis=0,how='all') #drop the Rows that has all null values\n",
    "    \n",
    "# reset the index after combining total data without using one of the column as index(means dropping the old index)    \n",
    "merge_data=merge_data.reset_index(drop=True)"
   ]
  },
  {
   "cell_type": "markdown",
   "id": "5ea49154",
   "metadata": {},
   "source": [
    "#### 3.DATE"
   ]
  },
  {
   "cell_type": "code",
   "execution_count": 5,
   "id": "35858653",
   "metadata": {},
   "outputs": [],
   "source": [
    "#after merging, changing the date of all columns to single format and keeping only date in that column using dt.date by removing time\n",
    "merge_data['Date'] =pd.to_datetime(merge_data['Date'],infer_datetime_format=True,errors='raise').dt.date"
   ]
  },
  {
   "cell_type": "markdown",
   "id": "1a82b0d7",
   "metadata": {},
   "source": [
    "#### 4.DIRECTION"
   ]
  },
  {
   "cell_type": "code",
   "execution_count": 6,
   "id": "355cf140",
   "metadata": {},
   "outputs": [],
   "source": [
    "#after merging ,in direction column we have quotation mark to fill that with above value we use forwardfill(ffill())\n",
    "merge_data['Direction'] = merge_data['Direction'].mask(merge_data['Direction'] == '\"').ffill()\n",
    "\n",
    "# we have different style char in Direction column and with some spaces so, we remove that spaces and make all style same\n",
    "\n",
    "#stripping all the spaces\n",
    "merge_data['Direction']=merge_data['Direction'].str.strip()\n",
    "\n",
    "#changing differnt style to same style using lower ()\n",
    "merge_data['Direction']=merge_data['Direction'].apply(lambda D:D.lower())"
   ]
  },
  {
   "cell_type": "markdown",
   "id": "623d3216",
   "metadata": {},
   "source": [
    "#### 5.TIME"
   ]
  },
  {
   "cell_type": "code",
   "execution_count": 7,
   "id": "050be63e",
   "metadata": {},
   "outputs": [],
   "source": [
    "#after merging,we have dot stead of colon for time.To change it to colon we do following thing\n",
    "merge_data['Time'] = merge_data['Time'].str.replace('.',':')# change from dot to colon\n",
    "\n",
    "#In Time column we have quotation mark to fill that with above value we use forwardfill(ffill())\n",
    "merge_data['Time']=merge_data['Time'].str.strip()# strip all the values to remove spaces since we have quotation marks with spaces\n",
    "merge_data['Time'] = merge_data['Time'].mask(merge_data['Time'] == '\"').ffill()\n",
    "\n",
    "# we have 'pm' in our time coloumn but according to specs we dont need that,so we drop 'pm' using below procedure\n",
    "merge_data['Time']=merge_data['Time'].astype('str')#first make the time column to string\n",
    "merge_data=merge_data[ ~merge_data.Time.str.contains('|'.join(['pm'])) ]#drop rows that contain the partial string \"pm\" in the time column we use partial because we time is difference in each row\n",
    "\n",
    "#according to specs we need time to nearest 5min \n",
    "merge_data['Time']=pd.to_datetime(merge_data['Time'])# we make time coloumn to datetime format in order to make it to nearest 5min by using floor function\n",
    "merge_data['Time']=merge_data['Time'].dt.floor(\"5min\")\n",
    "\n",
    "#after everthing is one format we keep only time in that column using dt.time by removing date\n",
    "merge_data['Time'] = pd.to_datetime(merge_data['Time'],errors='coerce').dt.time"
   ]
  },
  {
   "cell_type": "markdown",
   "id": "0fdbbb2a",
   "metadata": {},
   "source": [
    "#### 6.TYPE"
   ]
  },
  {
   "cell_type": "code",
   "execution_count": 8,
   "id": "b3e5f1d9",
   "metadata": {},
   "outputs": [],
   "source": [
    "# we have different style char in type column and with some spaces so, we remove that spaces and make all style same\n",
    "\n",
    "#stripping all the spaces\n",
    "merge_data['Type']=merge_data['Type'].str.strip()\n",
    "\n",
    "#changing differnt names of same type to same name using replace\n",
    "merge_data['Type']=merge_data['Type'].replace(['Electric Car'],['car'])\n",
    "merge_data['Type']=merge_data['Type'].replace(['Motor Bike','motorcycle','moto','motor bike'],['motorbike','motorbike','motorbike','motorbike'])\n",
    "merge_data['Type']=merge_data['Type'].replace(['bike','BIKE'],['bicycle','bicycle'])\n",
    "merge_data['Type']=merge_data['Type'].replace(['lorry','Truck','truck','TRUCK'],['lorry','lorry','lorry','lorry'])\n",
    "\n",
    "# In specs only above data is told to mention so rest is made into other\n",
    "merge_data['Type']=merge_data['Type'].replace(['scooter','e-scooter','escooter','Scooters','Electric Bike','other','tractor','Pedestrian'],['other','other','other','other','other','other','other','other'])\n",
    "\n",
    "#changing differnt style to same style using lower ()\n",
    "merge_data['Type']=merge_data['Type'].apply(lambda T:T.lower())\n"
   ]
  },
  {
   "cell_type": "markdown",
   "id": "bc3d6ec8",
   "metadata": {},
   "source": [
    "#### 7.Occupancy"
   ]
  },
  {
   "cell_type": "code",
   "execution_count": 9,
   "id": "064cf79c",
   "metadata": {},
   "outputs": [],
   "source": [
    "# Some of the rows in Occupancy have values in percentage so, we convert them into numbers.\n",
    "\n",
    "merge_data['Occupancy'] = merge_data['Occupancy'].astype('str')#making the column values as string\n",
    "merge_data['Occupancy'] = merge_data['Occupancy'].str.strip('%')# stripping the % symbol using strip to make all string numbers\n",
    "\n",
    "# writing the loop to make pecentage to number \n",
    "for ind in merge_data.index:\n",
    "    # converting the string to integer and comparing the value if it's greater than 10 multiplying it with 0.05 to make it to value of occupancy 5(considering car or taxi max capacity as 5) \n",
    "    if (merge_data['Type'][ind]=='car'or merge_data['Type'][ind]=='taxi') and (int(float(merge_data['Occupancy'][ind] )>= 10)):\n",
    "        merge_data[\"Occupancy\"][ind]=(int(float(merge_data[\"Occupancy\"][ind]) * 0.05))\n",
    "    # converting the string to integer and comparing the value if it's greater than 10 multiplying it with 0.04 to make it to value of occupancy 4(considering van or lorry max capacity as 4)\n",
    "    if (merge_data['Type'][ind]=='van' or merge_data['Type'][ind]=='lorry') and (int(float(merge_data['Occupancy'][ind] )>= 10)):\n",
    "        merge_data[\"Occupancy\"][ind]=(int(float(merge_data[\"Occupancy\"][ind]) * 0.04))\n",
    "    # multiplying the value with 0.87 to get a max capacity of 87\n",
    "    if merge_data['Type'][ind]=='bus':\n",
    "        merge_data[\"Occupancy\"][ind]=int(float(merge_data[\"Occupancy\"][ind])*0.87)"
   ]
  },
  {
   "cell_type": "code",
   "execution_count": 10,
   "id": "89bc46be",
   "metadata": {},
   "outputs": [],
   "source": [
    "# since there is no data in these columns so, dropping them by using drop function\n",
    "merge_data=merge_data.drop([\"AdditionalData2\", \"Unnamed: 0\",\"Unnamed: 6\"], axis = 1)\n"
   ]
  },
  {
   "cell_type": "markdown",
   "id": "c027b1bb",
   "metadata": {},
   "source": [
    "# <center>***VISUALIZATION***</center>"
   ]
  },
  {
   "cell_type": "markdown",
   "id": "bdc2b0f4",
   "metadata": {},
   "source": [
    "### Q:Are electric cars future?"
   ]
  },
  {
   "cell_type": "markdown",
   "id": "0dada86f",
   "metadata": {},
   "source": [
    "#### 1.ELECTRIC VEHICLE"
   ]
  },
  {
   "cell_type": "code",
   "execution_count": 11,
   "id": "143e41aa",
   "metadata": {},
   "outputs": [
    {
     "data": {
      "image/png": "[encoded data removed]",
      "text/plain": [
       "<Figure size 504x504 with 1 Axes>"
      ]
     },
     "metadata": {},
     "output_type": "display_data"
    }
   ],
   "source": [
    "# making all the names in the row to 'NON-ELECTRIC' or 'ELECTRIC' by using replace\n",
    "merge_data[\"ELECTRIC VEHICLE\"]=merge_data[\"ELECTRIC VEHICLE\"].replace(['+','absent','conventional',1,'yes','electric','Electric','Hybrid','Yes', ' True','No Engine','Electrics','ELECTRIC'],['ELECTRIC','ELECTRIC','ELECTRIC','ELECTRIC','ELECTRIC','ELECTRIC','ELECTRIC','ELECTRIC','ELECTRIC','ELECTRIC','ELECTRIC','ELECTRIC','ELECTRIC'])\n",
    "merge_data[\"ELECTRIC VEHICLE\"]=merge_data[\"ELECTRIC VEHICLE\"].replace(['-','present',0,'no','Combustible','No','Gasoline','non-electric','GAS',' False'],['NON-ELECTRIC','NON-ELECTRIC','NON-ELECTRIC','NON-ELECTRIC','NON-ELECTRIC','NON-ELECTRIC','NON-ELECTRIC','NON-ELECTRIC','NON-ELECTRIC','NON-ELECTRIC'])\n",
    "bull=merge_data[\"ELECTRIC VEHICLE\"].dropna()\n",
    "plt.figure(figsize=(7,7))# mentioning the figure size\n",
    "explode = (0, 0.1)#to make the pie chart edges buldge we give values i.e width\n",
    "#labels='',''\n",
    "bull.value_counts().plot(kind=\"pie\",autopct=\"%1.1f%%\",shadow=True, explode=explode)#,labels=labels)#plotting the pie graph\n",
    "plt.savefig('ELECTRIC VEHICLE')"
   ]
  },
  {
   "cell_type": "code",
   "execution_count": 12,
   "id": "f0050e7f",
   "metadata": {},
   "outputs": [
    {
     "data": {
      "text/plain": [
       "Type  ELECTRIC VEHICLE\n",
       "car   NON-ELECTRIC        954\n",
       "      ELECTRIC            198\n",
       "dtype: int64"
      ]
     },
     "execution_count": 12,
     "metadata": {},
     "output_type": "execute_result"
    }
   ],
   "source": [
    "p=merge_data[merge_data['Type']=='car'].loc[:,['Type','ELECTRIC VEHICLE']]\n",
    "p.value_counts()"
   ]
  },
  {
   "cell_type": "markdown",
   "id": "08748352",
   "metadata": {},
   "source": [
    "#### 2.BRAND OF THE VEHICLE"
   ]
  },
  {
   "cell_type": "code",
   "execution_count": 13,
   "id": "75df466e",
   "metadata": {},
   "outputs": [
    {
     "data": {
      "image/png": "[encoded data removed]",
      "text/plain": [
       "<Figure size 1080x288 with 1 Axes>"
      ]
     },
     "metadata": {
      "needs_background": "light"
     },
     "output_type": "display_data"
    }
   ],
   "source": [
    "# making different vehicle version names to to single manufacturer by using replace\n",
    "merge_data[\"BRAND OF THE VEHICLE\"]=merge_data[\"BRAND OF THE VEHICLE\"].replace(['unibus','U1','U2','U1`','First Bus'],['First Bus','First Bus','First Bus','First Bus','First Bus'])\n",
    "merge_data[\"BRAND OF THE VEHICLE\"]=merge_data[\"BRAND OF THE VEHICLE\"].replace(['volkswagen','Volkswagen Polo','Volkswagen','Volkswagen Polo','Volkswagen Golf','VW'],['volkswagen','volkswagen','volkswagen','volkswagen','volkswagen','volkswagen'])\n",
    "merge_data[\"BRAND OF THE VEHICLE\"]=merge_data[\"BRAND OF THE VEHICLE\"].replace(['audi','Audi','Audi A6','Audi Q5','Audi Q2'],['Audi','Audi','Audi','Audi','Audi'])\n",
    "merge_data[\"BRAND OF THE VEHICLE\"]=merge_data[\"BRAND OF THE VEHICLE\"].replace(['mercedes benz','Benz','Mercedes A180D','Mercedes'],['Benz','Benz','Benz','Benz'])\n",
    "merge_data[\"BRAND OF THE VEHICLE\"]=merge_data[\"BRAND OF THE VEHICLE\"].replace(['bmw','BMW',' mini','Mini Cooper','Mini'],['BMW','BMW','BMW','BMW','BMW'])\n",
    "merge_data[\"BRAND OF THE VEHICLE\"]=merge_data[\"BRAND OF THE VEHICLE\"].replace(['renault','Renault Zoe','Renault Traffic','Renault','Sandero'],['Renault','Renault','Renault','Renault','Renault'])\n",
    "merge_data[\"BRAND OF THE VEHICLE\"]=merge_data[\"BRAND OF THE VEHICLE\"].replace(['Opel Corsa','opel','Vauxhall','Corsa'],['Vauxhall','Vauxhall','Vauxhall','Vauxhall'])\n",
    "merge_data[\"BRAND OF THE VEHICLE\"]=merge_data[\"BRAND OF THE VEHICLE\"].replace(['Swift','Suzuki'],['suzuki','suzuki'])\n",
    "merge_data[\"BRAND OF THE VEHICLE\"]=merge_data[\"BRAND OF THE VEHICLE\"].replace(['Ibiza','Seat'],['Seat','Seat'])\n",
    "merge_data[\"BRAND OF THE VEHICLE\"]=merge_data[\"BRAND OF THE VEHICLE\"].replace(['Peugeot','Peugeot Export'],['Peugeot','Peugeot'])\n",
    "merge_data[\"BRAND OF THE VEHICLE\"]=merge_data[\"BRAND OF THE VEHICLE\"].replace(['Citoren','Citroen'],['Citroen','Citroen'])\n",
    "merge_data[\"BRAND OF THE VEHICLE\"]=merge_data[\"BRAND OF THE VEHICLE\"].replace(['Toyota','Toyota RA4'],['Toyota','Toyota'])\n",
    "merge_data[\"BRAND OF THE VEHICLE\"]=merge_data[\"BRAND OF THE VEHICLE\"].replace(['rangerover','Land Rover'],['Land Rover','Land Rover'])\n",
    "merge_data[\"BRAND OF THE VEHICLE\"]=merge_data[\"BRAND OF THE VEHICLE\"].replace(['Volvo XC 40','Volvo'],['Volvo','Volvo'])\n",
    "merge_data[\"BRAND OF THE VEHICLE\"]=merge_data[\"BRAND OF THE VEHICLE\"].replace(['CRV','Honda'],['Honda','Honda'])\n",
    "merge_data[\"BRAND OF THE VEHICLE\"]=merge_data[\"BRAND OF THE VEHICLE\"].replace(['Ford','Ford Transit',' ford'],['Ford','Ford','Ford'])\n",
    "\n",
    "df=merge_data.groupby(['BRAND OF THE VEHICLE'])['BRAND OF THE VEHICLE'].count().reset_index(name='count')# we are grouping data for of same manufacturer\n",
    "df.sort_values('count',ascending=False,inplace=True)\n",
    "plt.figure(figsize=(15,4))\n",
    "plt.plot(df['BRAND OF THE VEHICLE'],df['count'],'v',color='c') #plotting the graph\n",
    "plt.title('PLOT TO SEE WHICH BRANDS OF VEHICLE IS USED MORE') # giving the title\n",
    "plt.xlabel('BRAND OF THE VEHICLE')\n",
    "plt.ylabel('count of each brand')\n",
    "plt.xticks(rotation = 90)#giving angle for x labels\n",
    "plt.savefig('PLOT TO SEE WHICH BRANDS OF VEHICLE IS USED MORE') #saving the graph file"
   ]
  },
  {
   "cell_type": "code",
   "execution_count": 14,
   "id": "249f97ab",
   "metadata": {},
   "outputs": [
    {
     "data": {
      "text/html": [
       "<div>\n",
       "<style scoped>\n",
       "    .dataframe tbody tr th:only-of-type {\n",
       "        vertical-align: middle;\n",
       "    }\n",
       "\n",
       "    .dataframe tbody tr th {\n",
       "        vertical-align: top;\n",
       "    }\n",
       "\n",
       "    .dataframe thead th {\n",
       "        text-align: right;\n",
       "    }\n",
       "</style>\n",
       "<table border=\"1\" class=\"dataframe\">\n",
       "  <thead>\n",
       "    <tr style=\"text-align: right;\">\n",
       "      <th></th>\n",
       "      <th>BRAND OF THE VEHICLE</th>\n",
       "      <th>count</th>\n",
       "    </tr>\n",
       "  </thead>\n",
       "  <tbody>\n",
       "    <tr>\n",
       "      <th>47</th>\n",
       "      <td>volkswagen</td>\n",
       "      <td>38</td>\n",
       "    </tr>\n",
       "    <tr>\n",
       "      <th>32</th>\n",
       "      <td>Peugeot</td>\n",
       "      <td>26</td>\n",
       "    </tr>\n",
       "    <tr>\n",
       "      <th>19</th>\n",
       "      <td>First Bus</td>\n",
       "      <td>24</td>\n",
       "    </tr>\n",
       "    <tr>\n",
       "      <th>20</th>\n",
       "      <td>Ford</td>\n",
       "      <td>23</td>\n",
       "    </tr>\n",
       "    <tr>\n",
       "      <th>18</th>\n",
       "      <td>Fiat</td>\n",
       "      <td>21</td>\n",
       "    </tr>\n",
       "  </tbody>\n",
       "</table>\n",
       "</div>"
      ],
      "text/plain": [
       "   BRAND OF THE VEHICLE  count\n",
       "47           volkswagen     38\n",
       "32              Peugeot     26\n",
       "19            First Bus     24\n",
       "20                 Ford     23\n",
       "18                 Fiat     21"
      ]
     },
     "execution_count": 14,
     "metadata": {},
     "output_type": "execute_result"
    }
   ],
   "source": [
    "df.head()"
   ]
  },
  {
   "cell_type": "markdown",
   "id": "8ce51c8c",
   "metadata": {},
   "source": [
    "# <center>***Saving Final Merged file***</center>"
   ]
  },
  {
   "cell_type": "code",
   "execution_count": 15,
   "id": "20e1a006",
   "metadata": {},
   "outputs": [],
   "source": [
    "merge_data.to_excel('merge_data.xlsx',index=False)#to save final data "
   ]
  },
  {
   "cell_type": "markdown",
   "id": "39588f94",
   "metadata": {},
   "source": [
    "## I completed the above code for the coursework within the given timeframe. Later, during my free time, a question arose about whether the same members could collect identical data simultaneously, leading to duplicates. In response, I attempted to remove the duplicates and re-did the visualizations."
   ]
  },
  {
   "cell_type": "markdown",
   "id": "f68be17c",
   "metadata": {},
   "source": [
    "### Q:Are electric cars future?"
   ]
  },
  {
   "cell_type": "markdown",
   "id": "ecaae9b6",
   "metadata": {},
   "source": [
    "#### 1.ELECTRIC VEHICLE"
   ]
  },
  {
   "cell_type": "markdown",
   "id": "f0c87c30",
   "metadata": {},
   "source": [
    "### To achieve this, I first selected four columns (date, time, electric vehicles,type). Next, I removed all null values because not all rows contain data regarding electric vehicles. Then, I removed the duplicates using the drop_duplicates function, considering the date, time, and electric vehicle,type columns. If these four columns were the same, I removed the duplicates; otherwise, I kept them."
   ]
  },
  {
   "cell_type": "code",
   "execution_count": 16,
   "id": "d7b56b61",
   "metadata": {},
   "outputs": [
    {
     "data": {
      "text/html": [
       "<div>\n",
       "<style scoped>\n",
       "    .dataframe tbody tr th:only-of-type {\n",
       "        vertical-align: middle;\n",
       "    }\n",
       "\n",
       "    .dataframe tbody tr th {\n",
       "        vertical-align: top;\n",
       "    }\n",
       "\n",
       "    .dataframe thead th {\n",
       "        text-align: right;\n",
       "    }\n",
       "</style>\n",
       "<table border=\"1\" class=\"dataframe\">\n",
       "  <thead>\n",
       "    <tr style=\"text-align: right;\">\n",
       "      <th></th>\n",
       "      <th>Date</th>\n",
       "      <th>Time</th>\n",
       "      <th>ELECTRIC VEHICLE</th>\n",
       "      <th>Type</th>\n",
       "    </tr>\n",
       "  </thead>\n",
       "  <tbody>\n",
       "    <tr>\n",
       "      <th>342</th>\n",
       "      <td>2022-10-26</td>\n",
       "      <td>10:20:00</td>\n",
       "      <td>NON-ELECTRIC</td>\n",
       "      <td>bus</td>\n",
       "    </tr>\n",
       "    <tr>\n",
       "      <th>343</th>\n",
       "      <td>2022-10-26</td>\n",
       "      <td>10:20:00</td>\n",
       "      <td>NON-ELECTRIC</td>\n",
       "      <td>bicycle</td>\n",
       "    </tr>\n",
       "    <tr>\n",
       "      <th>344</th>\n",
       "      <td>2022-10-26</td>\n",
       "      <td>10:20:00</td>\n",
       "      <td>NON-ELECTRIC</td>\n",
       "      <td>car</td>\n",
       "    </tr>\n",
       "    <tr>\n",
       "      <th>347</th>\n",
       "      <td>2022-10-26</td>\n",
       "      <td>10:20:00</td>\n",
       "      <td>ELECTRIC</td>\n",
       "      <td>van</td>\n",
       "    </tr>\n",
       "    <tr>\n",
       "      <th>348</th>\n",
       "      <td>2022-10-26</td>\n",
       "      <td>10:20:00</td>\n",
       "      <td>ELECTRIC</td>\n",
       "      <td>car</td>\n",
       "    </tr>\n",
       "    <tr>\n",
       "      <th>...</th>\n",
       "      <td>...</td>\n",
       "      <td>...</td>\n",
       "      <td>...</td>\n",
       "      <td>...</td>\n",
       "    </tr>\n",
       "    <tr>\n",
       "      <th>4216</th>\n",
       "      <td>2022-10-26</td>\n",
       "      <td>09:55:00</td>\n",
       "      <td>NON-ELECTRIC</td>\n",
       "      <td>bicycle</td>\n",
       "    </tr>\n",
       "    <tr>\n",
       "      <th>4230</th>\n",
       "      <td>2022-10-26</td>\n",
       "      <td>09:55:00</td>\n",
       "      <td>NON-ELECTRIC</td>\n",
       "      <td>lorry</td>\n",
       "    </tr>\n",
       "    <tr>\n",
       "      <th>4237</th>\n",
       "      <td>2022-10-26</td>\n",
       "      <td>10:00:00</td>\n",
       "      <td>ELECTRIC</td>\n",
       "      <td>car</td>\n",
       "    </tr>\n",
       "    <tr>\n",
       "      <th>4257</th>\n",
       "      <td>2022-10-26</td>\n",
       "      <td>10:05:00</td>\n",
       "      <td>ELECTRIC</td>\n",
       "      <td>car</td>\n",
       "    </tr>\n",
       "    <tr>\n",
       "      <th>4299</th>\n",
       "      <td>2022-10-26</td>\n",
       "      <td>10:15:00</td>\n",
       "      <td>NON-ELECTRIC</td>\n",
       "      <td>taxi</td>\n",
       "    </tr>\n",
       "  </tbody>\n",
       "</table>\n",
       "<p>326 rows × 4 columns</p>\n",
       "</div>"
      ],
      "text/plain": [
       "            Date      Time ELECTRIC VEHICLE     Type\n",
       "342   2022-10-26  10:20:00     NON-ELECTRIC      bus\n",
       "343   2022-10-26  10:20:00     NON-ELECTRIC  bicycle\n",
       "344   2022-10-26  10:20:00     NON-ELECTRIC      car\n",
       "347   2022-10-26  10:20:00         ELECTRIC      van\n",
       "348   2022-10-26  10:20:00         ELECTRIC      car\n",
       "...          ...       ...              ...      ...\n",
       "4216  2022-10-26  09:55:00     NON-ELECTRIC  bicycle\n",
       "4230  2022-10-26  09:55:00     NON-ELECTRIC    lorry\n",
       "4237  2022-10-26  10:00:00         ELECTRIC      car\n",
       "4257  2022-10-26  10:05:00         ELECTRIC      car\n",
       "4299  2022-10-26  10:15:00     NON-ELECTRIC     taxi\n",
       "\n",
       "[326 rows x 4 columns]"
      ]
     },
     "execution_count": 16,
     "metadata": {},
     "output_type": "execute_result"
    }
   ],
   "source": [
    "df1=merge_data\n",
    "df1=merge_data.loc[:,['Date','Time','ELECTRIC VEHICLE','Type',\"Direction\"]]\n",
    "df1=df1.dropna()\n",
    "df1=df1.drop_duplicates(subset=[\"Date\",\"Time\",\"ELECTRIC VEHICLE\",\"Type\",\"Direction\"])\n",
    "df1"
   ]
  },
  {
   "cell_type": "code",
   "execution_count": 18,
   "id": "2537db3b",
   "metadata": {},
   "outputs": [
    {
     "data": {
      "text/plain": [
       "<AxesSubplot:ylabel='ELECTRIC VEHICLE'>"
      ]
     },
     "execution_count": 18,
     "metadata": {},
     "output_type": "execute_result"
    },
    {
     "data": {
      "image/png": "[encoded data removed]",
      "text/plain": [
       "<Figure size 504x504 with 1 Axes>"
      ]
     },
     "metadata": {},
     "output_type": "display_data"
    }
   ],
   "source": [
    "# making all the names in the row to 'NON-ELECTRIC' or 'ELECTRIC' by using replace\n",
    "df1[\"ELECTRIC VEHICLE\"]=df1[\"ELECTRIC VEHICLE\"].replace(['+','absent','conventional',1,'yes','electric','Electric','Hybrid','Yes', ' True','No Engine','Electrics','ELECTRIC'],['ELECTRIC','ELECTRIC','ELECTRIC','ELECTRIC','ELECTRIC','ELECTRIC','ELECTRIC','ELECTRIC','ELECTRIC','ELECTRIC','ELECTRIC','ELECTRIC','ELECTRIC'])\n",
    "df1[\"ELECTRIC VEHICLE\"]=df1[\"ELECTRIC VEHICLE\"].replace(['-','present',0,'no','Combustible','No','Gasoline','non-electric','GAS',' False'],['NON-ELECTRIC','NON-ELECTRIC','NON-ELECTRIC','NON-ELECTRIC','NON-ELECTRIC','NON-ELECTRIC','NON-ELECTRIC','NON-ELECTRIC','NON-ELECTRIC','NON-ELECTRIC'])\n",
    "bull=df1[\"ELECTRIC VEHICLE\"].dropna()\n",
    "plt.figure(figsize=(7,7))# mentioning the figure size\n",
    "explode = (0, 0.1)#to make the pie chart edges buldge we give values i.e width\n",
    "#labels='',''\n",
    "bull.value_counts().plot(kind=\"pie\",autopct=\"%1.1f%%\",shadow=True, explode=explode)#,labels=labels)#plotting the pie graph\n"
   ]
  },
  {
   "cell_type": "code",
   "execution_count": 19,
   "id": "eb6645b6",
   "metadata": {},
   "outputs": [
    {
     "data": {
      "text/plain": [
       "Type  ELECTRIC VEHICLE\n",
       "car   NON-ELECTRIC        54\n",
       "      ELECTRIC            44\n",
       "dtype: int64"
      ]
     },
     "execution_count": 19,
     "metadata": {},
     "output_type": "execute_result"
    }
   ],
   "source": [
    "p=df1[df1['Type']=='car'].loc[:,['Type','ELECTRIC VEHICLE']]\n",
    "p.value_counts()"
   ]
  },
  {
   "cell_type": "markdown",
   "id": "a414fbda",
   "metadata": {},
   "source": [
    "#### 2.BRAND OF THE VEHICLE"
   ]
  },
  {
   "cell_type": "code",
   "execution_count": 20,
   "id": "0b25f70a",
   "metadata": {},
   "outputs": [
    {
     "data": {
      "text/html": [
       "<div>\n",
       "<style scoped>\n",
       "    .dataframe tbody tr th:only-of-type {\n",
       "        vertical-align: middle;\n",
       "    }\n",
       "\n",
       "    .dataframe tbody tr th {\n",
       "        vertical-align: top;\n",
       "    }\n",
       "\n",
       "    .dataframe thead th {\n",
       "        text-align: right;\n",
       "    }\n",
       "</style>\n",
       "<table border=\"1\" class=\"dataframe\">\n",
       "  <thead>\n",
       "    <tr style=\"text-align: right;\">\n",
       "      <th></th>\n",
       "      <th>Date</th>\n",
       "      <th>Time</th>\n",
       "      <th>BRAND OF THE VEHICLE</th>\n",
       "    </tr>\n",
       "  </thead>\n",
       "  <tbody>\n",
       "    <tr>\n",
       "      <th>2330</th>\n",
       "      <td>2022-10-27</td>\n",
       "      <td>10:00:00</td>\n",
       "      <td>unibus</td>\n",
       "    </tr>\n",
       "    <tr>\n",
       "      <th>2331</th>\n",
       "      <td>2022-10-27</td>\n",
       "      <td>10:00:00</td>\n",
       "      <td>audi</td>\n",
       "    </tr>\n",
       "    <tr>\n",
       "      <th>2332</th>\n",
       "      <td>2022-10-27</td>\n",
       "      <td>10:00:00</td>\n",
       "      <td>renault</td>\n",
       "    </tr>\n",
       "    <tr>\n",
       "      <th>2333</th>\n",
       "      <td>2022-10-27</td>\n",
       "      <td>10:05:00</td>\n",
       "      <td>other</td>\n",
       "    </tr>\n",
       "    <tr>\n",
       "      <th>2334</th>\n",
       "      <td>2022-10-27</td>\n",
       "      <td>10:05:00</td>\n",
       "      <td>renault</td>\n",
       "    </tr>\n",
       "    <tr>\n",
       "      <th>...</th>\n",
       "      <td>...</td>\n",
       "      <td>...</td>\n",
       "      <td>...</td>\n",
       "    </tr>\n",
       "    <tr>\n",
       "      <th>4136</th>\n",
       "      <td>2022-10-26</td>\n",
       "      <td>09:50:00</td>\n",
       "      <td>Seat</td>\n",
       "    </tr>\n",
       "    <tr>\n",
       "      <th>4138</th>\n",
       "      <td>2022-10-26</td>\n",
       "      <td>09:50:00</td>\n",
       "      <td>volkswagen</td>\n",
       "    </tr>\n",
       "    <tr>\n",
       "      <th>4139</th>\n",
       "      <td>2022-10-26</td>\n",
       "      <td>09:50:00</td>\n",
       "      <td>Nil</td>\n",
       "    </tr>\n",
       "    <tr>\n",
       "      <th>4140</th>\n",
       "      <td>2022-10-26</td>\n",
       "      <td>09:50:00</td>\n",
       "      <td>BMW</td>\n",
       "    </tr>\n",
       "    <tr>\n",
       "      <th>4144</th>\n",
       "      <td>2022-10-26</td>\n",
       "      <td>09:50:00</td>\n",
       "      <td>Nissan</td>\n",
       "    </tr>\n",
       "  </tbody>\n",
       "</table>\n",
       "<p>228 rows × 3 columns</p>\n",
       "</div>"
      ],
      "text/plain": [
       "            Date      Time BRAND OF THE VEHICLE\n",
       "2330  2022-10-27  10:00:00               unibus\n",
       "2331  2022-10-27  10:00:00                 audi\n",
       "2332  2022-10-27  10:00:00              renault\n",
       "2333  2022-10-27  10:05:00                other\n",
       "2334  2022-10-27  10:05:00              renault\n",
       "...          ...       ...                  ...\n",
       "4136  2022-10-26  09:50:00                 Seat\n",
       "4138  2022-10-26  09:50:00           volkswagen\n",
       "4139  2022-10-26  09:50:00                  Nil\n",
       "4140  2022-10-26  09:50:00                  BMW\n",
       "4144  2022-10-26  09:50:00               Nissan\n",
       "\n",
       "[228 rows x 3 columns]"
      ]
     },
     "execution_count": 20,
     "metadata": {},
     "output_type": "execute_result"
    }
   ],
   "source": [
    "df2=merge_data.loc[:,['Date','Time','BRAND OF THE VEHICLE',\"Type\",\"Direction\"]]\n",
    "df2=df2.dropna()\n",
    "df2=df2.drop_duplicates(subset=[\"Date\",\"Time\",\"BRAND OF THE VEHICLE\",\"Type\",\"Direction\"])\n",
    "df2"
   ]
  },
  {
   "cell_type": "code",
   "execution_count": 21,
   "id": "9c118a11",
   "metadata": {
    "scrolled": false
   },
   "outputs": [
    {
     "data": {
      "text/plain": [
       "<Figure size 1080x288 with 0 Axes>"
      ]
     },
     "execution_count": 21,
     "metadata": {},
     "output_type": "execute_result"
    },
    {
     "data": {
      "image/png": "[encoded data removed]",
      "text/plain": [
       "<Figure size 1080x288 with 1 Axes>"
      ]
     },
     "metadata": {
      "needs_background": "light"
     },
     "output_type": "display_data"
    },
    {
     "data": {
      "text/plain": [
       "<Figure size 1080x288 with 0 Axes>"
      ]
     },
     "metadata": {},
     "output_type": "display_data"
    }
   ],
   "source": [
    "# making different vehicle version names to to single manufacturer by using replace\n",
    "df2[\"BRAND OF THE VEHICLE\"]=df2[\"BRAND OF THE VEHICLE\"].replace(['unibus','U1','U2','U1`','First Bus'],['First Bus','First Bus','First Bus','First Bus','First Bus'])\n",
    "df2[\"BRAND OF THE VEHICLE\"]=df2[\"BRAND OF THE VEHICLE\"].replace(['volkswagen','Volkswagen Polo','Volkswagen','Volkswagen Polo','Volkswagen Golf','VW'],['volkswagen','volkswagen','volkswagen','volkswagen','volkswagen','volkswagen'])\n",
    "df2[\"BRAND OF THE VEHICLE\"]=df2[\"BRAND OF THE VEHICLE\"].replace(['audi','Audi','Audi A6','Audi Q5','Audi Q2'],['Audi','Audi','Audi','Audi','Audi'])\n",
    "df2[\"BRAND OF THE VEHICLE\"]=df2[\"BRAND OF THE VEHICLE\"].replace(['mercedes benz','Benz','Mercedes A180D','Mercedes'],['Benz','Benz','Benz','Benz'])\n",
    "df2[\"BRAND OF THE VEHICLE\"]=df2[\"BRAND OF THE VEHICLE\"].replace(['bmw','BMW',' mini','Mini Cooper','Mini'],['BMW','BMW','BMW','BMW','BMW'])\n",
    "df2[\"BRAND OF THE VEHICLE\"]=df2[\"BRAND OF THE VEHICLE\"].replace(['renault','Renault Zoe','Renault Traffic','Renault','Sandero'],['Renault','Renault','Renault','Renault','Renault'])\n",
    "df2[\"BRAND OF THE VEHICLE\"]=df2[\"BRAND OF THE VEHICLE\"].replace(['Opel Corsa','opel','Vauxhall','Corsa'],['Vauxhall','Vauxhall','Vauxhall','Vauxhall'])\n",
    "df2[\"BRAND OF THE VEHICLE\"]=df2[\"BRAND OF THE VEHICLE\"].replace(['Swift','Suzuki'],['suzuki','suzuki'])\n",
    "df2[\"BRAND OF THE VEHICLE\"]=df2[\"BRAND OF THE VEHICLE\"].replace(['Ibiza','Seat'],['Seat','Seat'])\n",
    "df2[\"BRAND OF THE VEHICLE\"]=df2[\"BRAND OF THE VEHICLE\"].replace(['Peugeot','Peugeot Export'],['Peugeot','Peugeot'])\n",
    "df2[\"BRAND OF THE VEHICLE\"]=df2[\"BRAND OF THE VEHICLE\"].replace(['Citoren','Citroen'],['Citroen','Citroen'])\n",
    "df2[\"BRAND OF THE VEHICLE\"]=df2[\"BRAND OF THE VEHICLE\"].replace(['Toyota','Toyota RA4'],['Toyota','Toyota'])\n",
    "df2[\"BRAND OF THE VEHICLE\"]=df2[\"BRAND OF THE VEHICLE\"].replace(['rangerover','Land Rover'],['Land Rover','Land Rover'])\n",
    "df2[\"BRAND OF THE VEHICLE\"]=df2[\"BRAND OF THE VEHICLE\"].replace(['Volvo XC 40','Volvo'],['Volvo','Volvo'])\n",
    "df2[\"BRAND OF THE VEHICLE\"]=df2[\"BRAND OF THE VEHICLE\"].replace(['CRV','Honda'],['Honda','Honda'])\n",
    "df2[\"BRAND OF THE VEHICLE\"]=df2[\"BRAND OF THE VEHICLE\"].replace(['Ford','Ford Transit',' ford'],['Ford','Ford','Ford'])\n",
    "\n",
    "df2=df2.groupby(['BRAND OF THE VEHICLE'])['BRAND OF THE VEHICLE'].count().reset_index(name='count')# we are grouping data for of same manufacturer\n",
    "df2.sort_values('count',ascending=False,inplace=True)\n",
    "plt.figure(figsize=(15,4))\n",
    "plt.plot(df2['BRAND OF THE VEHICLE'],df2['count'],'v',color='c') #plotting the graph\n",
    "plt.title('PLOT TO SEE WHICH BRANDS OF VEHICLE IS USED MORE') # giving the title\n",
    "plt.xlabel('BRAND OF THE VEHICLE')\n",
    "plt.ylabel('count of each brand')\n",
    "plt.xticks(rotation = 90)#giving angle for x labels\n",
    "plt.figure(figsize=(15,4))"
   ]
  },
  {
   "cell_type": "code",
   "execution_count": 22,
   "id": "09890eac",
   "metadata": {},
   "outputs": [
    {
     "data": {
      "text/html": [
       "<div>\n",
       "<style scoped>\n",
       "    .dataframe tbody tr th:only-of-type {\n",
       "        vertical-align: middle;\n",
       "    }\n",
       "\n",
       "    .dataframe tbody tr th {\n",
       "        vertical-align: top;\n",
       "    }\n",
       "\n",
       "    .dataframe thead th {\n",
       "        text-align: right;\n",
       "    }\n",
       "</style>\n",
       "<table border=\"1\" class=\"dataframe\">\n",
       "  <thead>\n",
       "    <tr style=\"text-align: right;\">\n",
       "      <th></th>\n",
       "      <th>BRAND OF THE VEHICLE</th>\n",
       "      <th>count</th>\n",
       "    </tr>\n",
       "  </thead>\n",
       "  <tbody>\n",
       "    <tr>\n",
       "      <th>20</th>\n",
       "      <td>Ford</td>\n",
       "      <td>14</td>\n",
       "    </tr>\n",
       "    <tr>\n",
       "      <th>19</th>\n",
       "      <td>First Bus</td>\n",
       "      <td>14</td>\n",
       "    </tr>\n",
       "    <tr>\n",
       "      <th>47</th>\n",
       "      <td>volkswagen</td>\n",
       "      <td>13</td>\n",
       "    </tr>\n",
       "    <tr>\n",
       "      <th>18</th>\n",
       "      <td>Fiat</td>\n",
       "      <td>13</td>\n",
       "    </tr>\n",
       "    <tr>\n",
       "      <th>32</th>\n",
       "      <td>Peugeot</td>\n",
       "      <td>13</td>\n",
       "    </tr>\n",
       "  </tbody>\n",
       "</table>\n",
       "</div>"
      ],
      "text/plain": [
       "   BRAND OF THE VEHICLE  count\n",
       "20                 Ford     14\n",
       "19            First Bus     14\n",
       "47           volkswagen     13\n",
       "18                 Fiat     13\n",
       "32              Peugeot     13"
      ]
     },
     "execution_count": 22,
     "metadata": {},
     "output_type": "execute_result"
    }
   ],
   "source": [
    "df2.head()"
   ]
  },
  {
   "cell_type": "markdown",
   "id": "814df015",
   "metadata": {},
   "source": [
    "# <center>***CONCLUSION***</center>"
   ]
  },
  {
   "cell_type": "markdown",
   "id": "0b271018",
   "metadata": {},
   "source": [
    "### Based on this data, an infographic was designed, and additional research was conducted, which is attached in this project. \n",
    "Note: The infographic may not be accurate because it was created before removing the duplicates. Also, in this folder, some data might be missing because it was removed to anonymize it and protect ethical considerations. Please review the design and structure of the infographic as it contains design elements rather than data"
   ]
  },
  {
   "cell_type": "code",
   "execution_count": null,
   "id": "3d3aeb58",
   "metadata": {},
   "outputs": [],
   "source": []
  }
 ],
 "metadata": {
  "kernelspec": {
   "display_name": "Python 3 (ipykernel)",
   "language": "python",
   "name": "python3"
  },
  "language_info": {
   "codemirror_mode": {
    "name": "ipython",
    "version": 3
   },
   "file_extension": ".py",
   "mimetype": "text/x-python",
   "name": "python",
   "nbconvert_exporter": "python",
   "pygments_lexer": "ipython3",
   "version": "3.9.12"
  }
 },
 "nbformat": 4,
 "nbformat_minor": 5
}
